{
  "cells": [
    {
      "cell_type": "markdown",
      "metadata": {
        "id": "oAa05R-hNfW9"
      },
      "source": [
        "If you will be running on some other platform (non-jupyter-based), then we recommend using the docker image of [CORL](https://github.com/corl-team/CORL)."
      ]
    },
    {
      "cell_type": "markdown",
      "metadata": {
        "id": "GevZcaqRXXVv"
      },
      "source": [
        "# Install D4RL"
      ]
    },
    {
      "cell_type": "code",
      "execution_count": null,
      "metadata": {
        "id": "s7PPg0VZG5cK"
      },
      "outputs": [],
      "source": [
        "#Include this at the top of your colab code\n",
        "import os\n",
        "if not os.path.exists('.mujoco_setup_complete'):\n",
        "  # Get the prereqs\n",
        "  !apt-get -qq update\n",
        "  !apt-get -qq install -y libosmesa6-dev libgl1-mesa-glx libglfw3 libgl1-mesa-dev libglew-dev patchelf\n",
        "  # Get Mujoco\n",
        "  !mkdir ~/.mujoco\n",
        "  !wget -q https://mujoco.org/download/mujoco210-linux-x86_64.tar.gz -O mujoco.tar.gz\n",
        "  !tar -zxf mujoco.tar.gz -C \"$HOME/.mujoco\"\n",
        "  !rm mujoco.tar.gz\n",
        "  # Add it to the actively loaded path and the bashrc path (these only do so much)\n",
        "  !echo 'export LD_LIBRARY_PATH=$LD_LIBRARY_PATH:$HOME/.mujoco/mujoco210/bin' >> ~/.bashrc\n",
        "  !echo 'export LD_PRELOAD=$LD_PRELOAD:/usr/lib/x86_64-linux-gnu/libGLEW.so' >> ~/.bashrc\n",
        "  # THE ANNOYING ONE, FORCE IT INTO LDCONFIG SO WE ACTUALLY GET ACCESS TO IT THIS SESSION\n",
        "  !echo \"/root/.mujoco/mujoco210/bin\" > /etc/ld.so.conf.d/mujoco_ld_lib_path.conf\n",
        "  !ldconfig\n",
        "  # Install Mujoco-py\n",
        "  !pip3 install -U 'mujoco-py<2.2,>=2.1'\n",
        "  # run once\n",
        "  !touch .mujoco_setup_complete\n",
        "\n",
        "try:\n",
        "  if _mujoco_run_once:\n",
        "    pass\n",
        "except NameError:\n",
        "  _mujoco_run_once = False\n",
        "if not _mujoco_run_once:\n",
        "  # Add it to the actively loaded path and the bashrc path (these only do so much)\n",
        "  try:\n",
        "    os.environ['LD_LIBRARY_PATH']=os.environ['LD_LIBRARY_PATH'] + ':/root/.mujoco/mujoco210/bin'\n",
        "    os.environ['LD_LIBRARY_PATH']=os.environ['LD_LIBRARY_PATH'] + ':/usr/lib/nvidia'\n",
        "  except KeyError:\n",
        "    os.environ['LD_LIBRARY_PATH']='/root/.mujoco/mujoco210/bin'\n",
        "  try:\n",
        "    os.environ['LD_PRELOAD']=os.environ['LD_PRELOAD'] + ':/usr/lib/x86_64-linux-gnu/libGLEW.so'\n",
        "  except KeyError:\n",
        "    os.environ['LD_PRELOAD']='/usr/lib/x86_64-linux-gnu/libGLEW.so'\n",
        "  # presetup so we don't see output on first env initialization\n",
        "  import mujoco_py\n",
        "  _mujoco_run_once = True"
      ]
    },
    {
      "cell_type": "code",
      "execution_count": null,
      "metadata": {
        "id": "IjfW3W8ucbo7"
      },
      "outputs": [],
      "source": [
        "!pip install git+https://github.com/tinkoff-ai/d4rl@master#egg=d4rl"
      ]
    },
    {
      "cell_type": "markdown",
      "metadata": {
        "id": "F2J4cPd5aWyt"
      },
      "source": [
        "Let's check that everything works: the dataset for maze2d-umaze-v1 (for example) should download and the observations array should be displayed."
      ]
    },
    {
      "cell_type": "code",
      "execution_count": null,
      "metadata": {
        "id": "d1tbeKGAQKzj"
      },
      "outputs": [],
      "source": [
        "import gym\n",
        "# import gymnasium as gym\n",
        "import d4rl # Import required to register environments\n",
        "\n",
        "# Create the environment\n",
        "env = gym.make('maze2d-umaze-v1')\n",
        "\n",
        "# d4rl abides by the OpenAI gym interface\n",
        "env.reset()\n",
        "env.step(env.action_space.sample())\n",
        "\n",
        "# Each task is associated with a dataset\n",
        "# dataset contains observations, actions, rewards, terminals, and infos\n",
        "dataset = env.get_dataset()\n",
        "print(dataset['observations']) # An N x dim_observation Numpy array of observations\n",
        "\n",
        "# Alternatively, use d4rl.qlearning_dataset which\n",
        "# also adds next_observations.\n",
        "dataset = d4rl.qlearning_dataset(env)"
      ]
    },
    {
      "cell_type": "markdown",
      "metadata": {
        "id": "V9hzGY1T28V1"
      },
      "source": [
        "Now let's convert d4rl datasets to json format (if needed)"
      ]
    },
    {
      "cell_type": "code",
      "execution_count": null,
      "metadata": {
        "id": "2aqryoag3Fkd"
      },
      "outputs": [],
      "source": [
        "dataset_name = \"walker2d-medium-v2\"\n",
        "\n",
        "# Create the environment\n",
        "env = gym.make(dataset_name)\n",
        "\n",
        "\n",
        "dataset = d4rl.qlearning_dataset(env)"
      ]
    },
    {
      "cell_type": "code",
      "execution_count": null,
      "metadata": {
        "id": "GHXBDgjs8M1q"
      },
      "outputs": [],
      "source": [
        "import json\n",
        "import os\n",
        "\n",
        "output = dict()\n",
        "\n",
        "for k, v in dataset.items():\n",
        "  output[k] = v.tolist()\n",
        "\n",
        "\n",
        "with open(f\"{dataset_name}.json\", \"w\") as f:\n",
        "  json.dump(output, f)"
      ]
    }
  ],
  "metadata": {
    "colab": {
      "provenance": []
    },
    "kernelspec": {
      "display_name": "Python 3",
      "name": "python3"
    },
    "language_info": {
      "name": "python"
    }
  },
  "nbformat": 4,
  "nbformat_minor": 0
}
